{
  "nbformat": 4,
  "nbformat_minor": 0,
  "metadata": {
    "colab": {
      "name": "cAG.ipynb",
      "provenance": []
    },
    "kernelspec": {
      "name": "python3",
      "display_name": "Python 3",
      "language": "python"
    }
  },
  "cells": [
    {
      "cell_type": "markdown",
      "metadata": {
        "id": "x73v-e_M0mRJ"
      },
      "source": [
        "## Compact Genetic Algorthm"
      ]
    },
    {
      "cell_type": "code",
      "metadata": {
        "id": "a4k9fF1OrRA4"
      },
      "source": [
        "#######################################################  \n",
        "# Universidade Federal do Piauí                       #\n",
        "# Campus ministro petronio Portela                    #                                       \n",
        "# Copyright 2020 -José Borges do Carmo Neto-          #\n",
        "# @author José Brges do Carmo Neto                    #\n",
        "# @email jose.borges90@hotmail.com                    #\n",
        "#  -- Algoritmo Genético Básico                       #\n",
        "#  -- Version: 0.2  - 27/11/2020                      #\n",
        "#######################################################\n",
        "import random\n",
        "import numpy as np\n",
        "from functools import reduce\n",
        "import pandas as pd\n",
        "import time"
      ],
      "execution_count": 310,
      "outputs": []
    },
    {
      "cell_type": "code",
      "metadata": {
        "id": "3g1JgyLd6mSK"
      },
      "source": [
        "#Função Torneio:\n",
        "def mortal_Kombat(ntorn,L,prob,npop):\n",
        "\n",
        "  #Gerar Individuos [Crossover]:\n",
        "  C=[]\n",
        "  numero_de_avaliacoes = 0\n",
        "\n",
        "  pop = np.zeros([ntorn,L])\n",
        "  for i in range(ntorn):\n",
        "    for j in range(L):\n",
        "       prb = np.random.rand()\n",
        "       if prb < prob[j]:\n",
        "         pop[i,j] = 1\n",
        "       else:\n",
        "         pop[i,j] = 0\n",
        "    S = pop[i]\n",
        "    fit = np.sum(S)\n",
        "    numero_de_avaliacoes = numero_de_avaliacoes + 1\n",
        "    C.append([S,fit])         \n",
        "       \n",
        "  C.sort(key=lambda x:x[1],reverse=True)\n",
        "  vencedor = C[0][0] #Melhor cromossomo\n",
        "  perdedor = C[1][0] #pior cromossomo\n",
        "\n",
        "  #Vetor de probbilidades:\n",
        "\n",
        "  for i in range(ntorn-1):\n",
        "    for k in range(L):\n",
        "      if vencedor[k] != perdedor[k]:\n",
        "        if vencedor[k] == 1:\n",
        "          prob[k] = prob[k] + 1/npop;\n",
        "          '''if prob[k] > 1:\n",
        "            prob[k] = 1'''\n",
        "        else:\n",
        "          prob[k] = prob[k] - 1/npop\n",
        "          '''if prob[k] < 0:\n",
        "            prob[k] = 0'''\n",
        "  return [vencedor, prob, fit, numero_de_avaliacoes]\n",
        "\n"
      ],
      "execution_count": 265,
      "outputs": []
    },
    {
      "cell_type": "code",
      "execution_count": 263,
      "metadata": {},
      "outputs": [],
      "source": [
        "\n",
        "def cAG(npop,ntorn,L):\n",
        " \n",
        "    g = 1; #Contador de Gerações\n",
        "    ava_cont =  0   \n",
        "    convergencia = 0\n",
        "    #Gerar Vetor de Probabilidade... \n",
        "    prob = np.zeros(L)+0.5\n",
        "\n",
        "    while convergencia == 0:\n",
        "\n",
        "        [vencedor, prob, fit,numero_de_avaliacoes] = mortal_Kombat(ntorn,L,prob,npop)\n",
        "        g = g + 1\n",
        "        ava_cont = ava_cont + numero_de_avaliacoes\n",
        "        for l in range(L):\n",
        "            if prob[l] > 0 and prob[l] < 0.99:\n",
        "                convergencia = 0\n",
        "            else:\n",
        "                convergencia = 1\n",
        "    solucao = vencedor\n",
        "    correct_bits = np.array(list(filter(lambda x:x==1, vencedor))).sum()\n",
        "    \n",
        "    return [solucao,correct_bits,ava_cont]\n"
      ]
    },
    {
      "source": [
        "### Experimentos:"
      ],
      "cell_type": "markdown",
      "metadata": {}
    },
    {
      "source": [
        "inicio = time.time()\n",
        "tabela_bits_10 = np.zeros([4,6])\n",
        "tabela_ava_10 = np.zeros([4,6])\n",
        "populacao = [10,20,40,60,80,100]\n",
        "torneio = [2,4,8,16]\n",
        "rep = 1\n",
        "L = 10\n",
        "for ii in range(len(populacao)): \n",
        "    for jj in range(len(torneio)):\n",
        "       sol = []\n",
        "       for i in range(rep):\n",
        "           [solucao, correct_bits, numero_de_avaliacoes] = cAG(populacao[ii],torneio[jj],L)\n",
        "           sol.append([solucao,correct_bits,numero_de_avaliacoes])\n",
        "        \n",
        "       media_correct_bits = sum(sol[i][1] for i in range(rep))/rep\n",
        "       media_correct_ava = sum(sol[i][2] for i in range(rep))/rep\n",
        "       tabela_bits[jj][ii] = media_correct_bits\n",
        "       tabela_ava[jj][ii] = media_correct_ava \n",
        "\n",
        "    \n",
        "fim = time.time()\n",
        "print('tempo execução:',fim - inicio)\n"
      ],
      "cell_type": "code",
      "metadata": {},
      "execution_count": 311,
      "outputs": [
        {
          "output_type": "stream",
          "name": "stdout",
          "text": [
            "tempo execução: 520.2076830863953\n"
          ]
        }
      ]
    },
    {
      "cell_type": "code",
      "execution_count": 315,
      "metadata": {},
      "outputs": [
        {
          "output_type": "execute_result",
          "data": {
            "text/plain": [
              "array([[2.4000000e+01, 1.4400000e+02, 3.6400000e+02, 5.8600000e+02,\n",
              "        6.7800000e+02, 9.4600000e+02],\n",
              "       [4.4000000e+01, 1.0800000e+02, 1.1920000e+03, 4.9600000e+02,\n",
              "        6.1560000e+03, 1.5800000e+03],\n",
              "       [1.6000000e+01, 6.4000000e+01, 2.8000000e+02, 1.5200000e+02,\n",
              "        5.6024800e+05, 9.3148800e+05],\n",
              "       [4.8000000e+01, 3.2000000e+01, 1.3273904e+07, 8.0000000e+01,\n",
              "        6.2400000e+02, 6.4000000e+02]])"
            ]
          },
          "metadata": {},
          "execution_count": 315
        }
      ],
      "source": [
        "tabela_ava"
      ]
    },
    {
      "cell_type": "code",
      "execution_count": null,
      "metadata": {},
      "outputs": [],
      "source": [
        "tabela_bits_50 = np.zeros([4,6])\n",
        "tabela_ava_50 = np.zeros([4,6])\n",
        "populacao = [10,20,40,60,80,100]\n",
        "torneio = [2,4,8,16]\n",
        "L = 50\n",
        "for ii in range(len(populacao)): \n",
        "    for jj in range(len(torneio)):\n",
        "       sol = []\n",
        "       for i in range(5):\n",
        "           [solucao, correct_bits, numero_de_avaliacoes] = cAG(populacao[ii],torneio[jj],L)\n",
        "           sol.append([solucao,correct_bits,numero_de_avaliacoes])\n",
        "        \n",
        "       media_correct_bits = sum(sol[i][1] for i in range(5))/5\n",
        "       media_correct_ava = sum(sol[i][2] for i in range(5))/5\n",
        "       tabela_bits[jj][ii] = media_correct_bits\n",
        "       tabela_ava[jj][ii] = media_correct_ava "
      ]
    },
    {
      "cell_type": "code",
      "execution_count": null,
      "metadata": {},
      "outputs": [],
      "source": [
        "tabela_bits_100 = np.zeros([4,6])\n",
        "tabela_ava_100 = np.zeros([4,6])\n",
        "populacao = [10,20,40,60,80,100]\n",
        "torneio = [2,4,8,16]\n",
        "L = 100\n",
        "for ii in range(len(populacao)): \n",
        "    for jj in range(len(torneio)):\n",
        "       sol = []\n",
        "       for i in range(5):\n",
        "           [solucao, correct_bits, numero_de_avaliacoes] = cAG(populacao[ii],torneio[jj],L)\n",
        "           sol.append([solucao,correct_bits,numero_de_avaliacoes])\n",
        "        \n",
        "       media_correct_bits = sum(sol[i][1] for i in range(5))/5\n",
        "       media_correct_ava = sum(sol[i][2] for i in range(5))/5\n",
        "       tabela_bits[jj][ii] = media_correct_bits\n",
        "       tabela_ava[jj][ii] = media_correct_ava "
      ]
    },
    {
      "cell_type": "code",
      "execution_count": 307,
      "metadata": {},
      "outputs": [
        {
          "output_type": "execute_result",
          "data": {
            "text/plain": [
              "31"
            ]
          },
          "metadata": {},
          "execution_count": 307
        }
      ],
      "source": [
        "g"
      ]
    },
    {
      "cell_type": "code",
      "execution_count": null,
      "metadata": {},
      "outputs": [],
      "source": []
    }
  ]
}