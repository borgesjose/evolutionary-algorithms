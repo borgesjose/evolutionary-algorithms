{
  "nbformat": 4,
  "nbformat_minor": 0,
  "metadata": {
    "colab": {
      "name": "cAG.ipynb",
      "provenance": []
    },
    "kernelspec": {
      "name": "python3",
      "display_name": "Python 3"
    }
  },
  "cells": [
    {
      "cell_type": "markdown",
      "metadata": {
        "id": "x73v-e_M0mRJ"
      },
      "source": [
        "##Compact Genetic Algorthm"
      ]
    },
    {
      "cell_type": "markdown",
      "metadata": {
        "id": "3FPu0Gms0noz"
      },
      "source": [
        ""
      ]
    },
    {
      "cell_type": "code",
      "metadata": {
        "id": "a4k9fF1OrRA4"
      },
      "source": [
        "#######################################################  \r\n",
        "# Universidade Federal do Piauí                       #\r\n",
        "# Campus ministro petronio Portela                    #                                       \r\n",
        "# Copyright 2020 -José Borges do Carmo Neto-          #\r\n",
        "# @author José Brges do Carmo Neto                    #\r\n",
        "# @email jose.borges90@hotmail.com                    #\r\n",
        "#  -- Algoritmo Genético Básico                       #\r\n",
        "#  -- Version: 0.2  - 27/11/2020                      #\r\n",
        "#######################################################\r\n"
      ],
      "execution_count": null,
      "outputs": []
    },
    {
      "cell_type": "markdown",
      "metadata": {
        "id": "ej0tPPl_1Z1d"
      },
      "source": [
        "###Parametros de Inicialização"
      ]
    },
    {
      "cell_type": "code",
      "metadata": {
        "id": "0TWdZsrb0k3o"
      },
      "source": [
        "import random\r\n",
        "import numpy as np\r\n",
        "from functools import reduce\r\n",
        "\r\n",
        "npop = 10\r\n",
        "ntorn = 2 \r\n",
        "g = 1; #Contador de Gerações\r\n",
        "L = 10; #Comprimento do Vetor\r\n",
        "convergencia = 0"
      ],
      "execution_count": 5,
      "outputs": []
    },
    {
      "cell_type": "code",
      "metadata": {
        "id": "ZfbhrhbO1PeX"
      },
      "source": [
        "#Gerar Vetor de Probabilidade... \r\n",
        "for i in range(L):\r\n",
        "  prob(1,i) = 0.5"
      ],
      "execution_count": null,
      "outputs": []
    },
    {
      "cell_type": "code",
      "metadata": {
        "id": "3g1JgyLd6mSK"
      },
      "source": [
        "#Função Torneio:\r\n",
        "def mortal_Kombat(ntorn,L,prob,npop):\r\n",
        "\r\n",
        "  #Gerar Individuos [Crossover]:\r\n",
        "  for i in range(ntorn):\r\n",
        "    for j in range(L):\r\n",
        "      r = \r\n",
        "\r\n"
      ],
      "execution_count": null,
      "outputs": []
    }
  ]
}