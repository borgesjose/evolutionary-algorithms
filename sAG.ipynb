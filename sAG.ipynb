{
  "nbformat": 4,
  "nbformat_minor": 0,
  "metadata": {
    "language_info": {
      "codemirror_mode": {
        "name": "ipython",
        "version": 3
      },
      "file_extension": ".py",
      "mimetype": "text/x-python",
      "name": "python",
      "nbconvert_exporter": "python",
      "pygments_lexer": "ipython3",
      "version": "3.8.2-final"
    },
    "orig_nbformat": 2,
    "kernelspec": {
      "name": "python38232bitcbc459f2ebd548ad93f2fd8cec3e6a90",
      "display_name": "Python 3.8.2 32-bit"
    },
    "colab": {
      "name": "sAG.ipynb",
      "provenance": [],
      "include_colab_link": true
    }
  },
  "cells": [
    {
      "cell_type": "markdown",
      "metadata": {
        "id": "view-in-github",
        "colab_type": "text"
      },
      "source": [
        "<a href=\"https://colab.research.google.com/github/borgesjose/evolutionary-algorithms/blob/main/sAG.ipynb\" target=\"_parent\"><img src=\"https://colab.research.google.com/assets/colab-badge.svg\" alt=\"Open In Colab\"/></a>"
      ]
    },
    {
      "cell_type": "markdown",
      "metadata": {
        "id": "TtNdgIIUgX1L"
      },
      "source": [
        "# Atividade  "
      ]
    },
    {
      "cell_type": "code",
      "metadata": {
        "colab": {
          "base_uri": "https://localhost:8080/"
        },
        "id": "sIb4G3d6g3GE",
        "outputId": "78d3c6a8-c263-4bfc-ef51-81ad6e266931"
      },
      "source": [
        "pip install ypstruct"
      ],
      "execution_count": null,
      "outputs": [
        {
          "output_type": "stream",
          "text": [
            "Requirement already satisfied: ypstruct in /usr/local/lib/python3.6/dist-packages (0.0.2)\n"
          ],
          "name": "stdout"
        }
      ]
    },
    {
      "cell_type": "markdown",
      "metadata": {
        "id": "7Vgkno1NgX1M"
      },
      "source": [
        "Script Algoritmo Genéticos:"
      ]
    },
    {
      "cell_type": "code",
      "metadata": {
        "id": "s0HAgZUggX1M"
      },
      "source": [
        "#######################################################  \n",
        "# Universidade Federal do Piauí                       #\n",
        "# Campus ministro petronio Portela                    #                                       \n",
        "# Copyright 2020 -José Borges do Carmo Neto-          #\n",
        "# @author José Brges do Carmo Neto                    #\n",
        "# @email jose.borges90@hotmail.com                    #\n",
        "#  -- Algoritmo Genético Básico                       #\n",
        "#  -- Version: 0.2  - 27/11/2020                      #\n",
        "#######################################################\n",
        "\n",
        "import random\n",
        "import numpy as np\n",
        "from ypstruct import structure\n",
        "from functools import reduce\n",
        "\n",
        "def runAG(problem,params):\n",
        "    \n",
        "    costfunc = problem.costfunc\n",
        "    nvar = problem.nvar\n",
        "    varmin = problem.varmin\n",
        "    varmax = problem.varmax\n",
        "    beta = params.beta\n",
        "    maxit = params.maxit\n",
        "    npop = params.npop\n",
        "    size_cromossomo = params.size_cromossomo\n",
        "    size_dec = params.size_dec\n",
        "    size_int = params.size_int\n",
        "\n",
        "    pc = params.pc\n",
        "    nc = int(np.round(pc*npop/2)*2)\n",
        "    gamma = params.gamma\n",
        "    mu = params.mu\n",
        "    sigma = params.sigma\n",
        "    selection_flag = params.selection_flag\n",
        "    N = params.torneio_size\n",
        "\n",
        "    count_avaliacoes = 0\n",
        "\n",
        "    # definido o individio;\n",
        "    individuo_vazio = structure()\n",
        "    individuo_vazio.cromossomo = None\n",
        "    individuo_vazio.custo = None\n",
        "    \n",
        "    #Melhor Solução:\n",
        "    the_best = individuo_vazio.deepcopy()\n",
        "    the_best.custo = np.inf\n",
        "\n",
        "\n",
        "    #Criando uma população inicial:\n",
        "    pop = individuo_vazio.repeat(npop)\n",
        "    for i in range(0,npop):\n",
        "        pop[i].cromossomo = np.random.randint(2, size=size_cromossomo)\n",
        "        #print(pop[i].cromossomo)\n",
        "        pop[i].custo = costfunc(bin_to_real(pop[i].cromossomo, size_int,  size_dec))\n",
        "        count_avaliacoes = count_avaliacoes + 1\n",
        "        \n",
        "        if pop[i].custo < the_best.custo:\n",
        "            the_best = pop[i].deepcopy()\n",
        "\n",
        "  \n",
        "    #Melhor custo por iterações:\n",
        "    the_best_costs = np.empty(maxit)\n",
        "\n",
        "    #Vamo botar pra Rodar:\n",
        "    for it in range(maxit):\n",
        "        \n",
        "        custos = np.array([x.custo for x in pop])\n",
        "        avg_cost = np.mean(custos)\n",
        "        if avg_cost != 0:\n",
        "            custos = custos/avg_cost\n",
        "        \n",
        "        probs = np.exp(-beta*custos)\n",
        "\n",
        "        popc = []\n",
        "        for k in range(nc//2):\n",
        "            q = np.random.permutation(npop)\n",
        "            \n",
        "            if selection_flag == 'r':\n",
        "                #Seleção po roleta\n",
        "                p1 = pop[roda_roda_jequiti(probs)]\n",
        "                p2 = pop[roda_roda_jequiti(probs)]\n",
        "            if selection_flag == 't':\n",
        "                p1 = pop[mortal_combat(N,pop)] \n",
        "                p2 = pop[mortal_combat(N,pop)]\n",
        "\n",
        "            #Fazer o crossover:\n",
        "            c1,c2  = crossover(p1,p2,gamma)\n",
        "            #Fazer Mutação\n",
        "            c1 = mutacao(c1, mu, sigma)\n",
        "            c2 = mutacao(c2, mu, sigma)\n",
        "\n",
        "            # Tudo tem limite\n",
        "            apply_bound(c1, varmin, varmax,size_int)\n",
        "            apply_bound(c2,varmin, varmax,size_int)\n",
        "\n",
        "            # Avaliar filhos\n",
        "            c1.custo = costfunc(bin_to_real(c1.cromossomo, size_int,  size_dec))\n",
        "            count_avaliacoes = count_avaliacoes + 1\n",
        "            if c1.custo < the_best.custo:\n",
        "                the_best = c1.deepcopy()\n",
        "            c2.custo = costfunc(bin_to_real(c2.cromossomo,size_int,  size_dec))\n",
        "            count_avaliacoes = count_avaliacoes + 1\n",
        "            if c2.custo < the_best.custo:\n",
        "                the_best = c2.deepcopy()\n",
        "\n",
        "            # Adicionar filhos a população\n",
        "            popc.append(c1)\n",
        "            popc.append(c2)\n",
        "\n",
        "        pop += popc\n",
        "        #print(pop)\n",
        "        pop = sorted(pop, key=lambda x: x.custo)\n",
        "        #print(pop)\n",
        "        pop = pop[0:npop]\n",
        "      \n",
        "\n",
        "        #Armazenar o melhor custo por iteração\n",
        "        the_best_costs[it] = the_best.custo\n",
        "\n",
        "        #Mostrar situação atual\n",
        "        #print(\"Iteração {}: Melhor Custo = {}\".format(it, the_best_costs[it]))\n",
        "\n",
        "    \n",
        "    n_bits_corretos = contador_de_zeros(the_best.cromossomo[1:])\n",
        "\n",
        "    #saida\n",
        "    saida = structure()\n",
        "    saida.pop = pop\n",
        "    saida.the_best = the_best\n",
        "    saida.the_best_costs  = the_best_costs \n",
        "    saida.custos = custos\n",
        "    saida.count_avaliacoes = count_avaliacoes;\n",
        "    saida.n_bits_corretos = n_bits_corretos;\n",
        "\n",
        "    return saida\n",
        "\n",
        "def bin_to_real(x,int,dec):\n",
        "    real=0\n",
        "    bin = x[::-1]\n",
        "    for i in range(bin.size-1):\n",
        "        real =  real + bin[i]*2**(-dec+i)\n",
        "    if x[0]==1:\n",
        "        real = real\n",
        "    if x[0] == 0:\n",
        "        real=-1*real  \n",
        "    return real\n",
        "\n",
        "def real_to_bin(real,n=0): #Retoran um binario com bit de sinal\n",
        "    #n é o numero de bits\n",
        "    restos = []\n",
        "    if real > 0:\n",
        "        sinal = 1\n",
        "    if real < 0:\n",
        "        sinal = 0\n",
        "    r = abs(real)\n",
        "    while abs(r) > 0:\n",
        "        resto = r%2\n",
        "        restos.append(resto)\n",
        "        r=r//2\n",
        "\n",
        "    if n > len(restos):\n",
        "      m = n - len(restos)\n",
        "      for uu in range(m):\n",
        "          restos.append(0)\n",
        "\n",
        "    restos.append(sinal)\n",
        "    restos.reverse()\n",
        "    bin = np.array(restos)     \n",
        "    return bin\n",
        "\n",
        "def crossover(p1,p2,gamma = 0.1):\n",
        "    c1 = p1.deepcopy()\n",
        "    c2 = p1.deepcopy()\n",
        "    point = np.random.randint(1,p1.cromossomo.size)\n",
        "\n",
        "    c1.cromossomo = np.concatenate((p1.cromossomo[:point], p2.cromossomo[point:]))\n",
        "    c2.cromossomo = np.concatenate((p2.cromossomo[:point], p1.cromossomo[point:]))\n",
        "\n",
        "    return c1,c2\n",
        "\n",
        "def mutacao(x,mu,sigma):\n",
        "    #mu = probabilidade de mutar o individuo;\n",
        "    #sigma probabilidade de um bit mudar;\n",
        "    y = x.deepcopy()\n",
        "    prb = np.random.rand()\n",
        "    if prb<=mu:\n",
        "        for kk in range(y.cromossomo.size):\n",
        "            prbb = np.random.rand()\n",
        "            if prbb <= sigma:\n",
        "                y.cromossomo[kk] = inverter(y.cromossomo[kk])\n",
        "    return  y\n",
        "\n",
        "\n",
        "def roda_roda_jequiti(p):\n",
        "    #Função que faz a seleção pela roleta:\n",
        "    c = np.cumsum(p)\n",
        "    r = sum(p)*np.random.rand()\n",
        "    ind = np.argwhere(r <= c)\n",
        "    return ind[0][0]\n",
        "\n",
        "def mortal_combat(N,pop):\n",
        "    #função que faz seleção por torneio:\n",
        "    npop = len(pop)\n",
        "    indices_torneio = np.zeros(N)\n",
        "    custos_torneio = np.zeros(N)\n",
        "    for ii in range(N): #Seleção da população para o torneio\n",
        "        point =  random.randrange(0, npop)\n",
        "        indices_torneio[ii] = point\n",
        "        custos_torneio[ii] = pop[point].custo\n",
        "    \n",
        "    champ = int(indices_torneio[np.argmax(custos_torneio)]) #Test your might\n",
        "      \n",
        "    return champ #retorna o indice na população do campeão deste torneio\n",
        "\n",
        "def apply_bound(x,varmin, varmax,size_int):\n",
        "    num = bin_to_real(x.cromossomo[:size_int+1],size_int,0)\n",
        "    #print('num antes de aplicar bound:',num)\n",
        "    #print(x.cromossomo[:size_int+1])\n",
        "    if num > varmax:\n",
        "        x.cromossomo[:size_int+1] = real_to_bin(varmax,size_int)\n",
        "    if num < varmin:\n",
        "        x.cromossomo[:size_int+1] = real_to_bin(varmin,size_int)\n",
        "    num1= bin_to_real(x.cromossomo[:size_int+1],size_int,0)\n",
        "    #print('num após aplicar bound:',num1)\n",
        "\n",
        "def inverter(x):\n",
        "    if x ==1:\n",
        "        y=0\n",
        "    if x==0:\n",
        "        y=1\n",
        "    return y\n",
        "\n",
        "def contador_de_zeros(x):\n",
        "    count = np.count_nonzero(x==0)\n",
        "    return count\n"
      ],
      "execution_count": null,
      "outputs": []
    },
    {
      "cell_type": "code",
      "metadata": {
        "id": "oNp_K5_LgX1M"
      },
      "source": [
        "print(saida.the_best.custo)"
      ],
      "execution_count": null,
      "outputs": []
    },
    {
      "cell_type": "code",
      "metadata": {
        "id": "BNEOl1X9gX1M"
      },
      "source": [
        "print(saida.the_best.cromossomo)"
      ],
      "execution_count": null,
      "outputs": []
    },
    {
      "cell_type": "code",
      "metadata": {
        "id": "q5o1vXI-gX1M"
      },
      "source": [
        "plt.plot(range(params.maxit),saida.the_best_cost)\n",
        "plt.title('CUSTO x GERAÇÂO')"
      ],
      "execution_count": null,
      "outputs": []
    },
    {
      "cell_type": "markdown",
      "metadata": {
        "id": "vC-aBK4WgX1M"
      },
      "source": [
        "## Experimento com Seleção por Roleta:\n",
        "\n",
        "Segundo "
      ]
    },
    {
      "cell_type": "code",
      "metadata": {
        "id": "EOc0Y11PgX1M"
      },
      "source": [
        "import numpy as np\n",
        "import matplotlib.pyplot as plt\n",
        "from ypstruct import structure \n",
        "import pandas as pd\n",
        "import time\n",
        "\n",
        "# Função objetivo:\n",
        "def x_quadrado(x):\n",
        "    return x**2\n",
        "n_execucao = 1;"
      ],
      "execution_count": null,
      "outputs": []
    },
    {
      "cell_type": "markdown",
      "metadata": {
        "id": "VvQcdkSIgX1M"
      },
      "source": [
        "Devemos obter as seguites informações do algoritmo:\n",
        "\n",
        "    1 - Numero de Bits correntos (Quantidade de zeros na resposta final em média ao fim de cada rodada) para 5 execuções do AG:\n",
        "    2 -  Numero de Avaliações médio para 5 execuções do AG \n",
        "    3 - valor de fit médio para 5 execuçãoes do AG"
      ]
    },
    {
      "cell_type": "code",
      "metadata": {
        "tags": [
          "outputPrepend"
        ],
        "id": "QhEjW_tIgX1M"
      },
      "source": [
        "\n",
        "\n"
      ],
      "execution_count": null,
      "outputs": []
    },
    {
      "cell_type": "code",
      "metadata": {
        "tags": [],
        "colab": {
          "base_uri": "https://localhost:8080/"
        },
        "id": "QLhv2LWUgX1M",
        "outputId": "c0969142-c9cb-4dd1-9f46-aac95da4f0fe"
      },
      "source": [
        "nicio = time.time()\n",
        "\n",
        "problem = structure()\n",
        "problem.objetivo = 'min'\n",
        "problem.costfunc = x_quadrado\n",
        "problem.nvar = 1\n",
        "problem.varmin = -250\n",
        "problem.varmax = 250\n",
        "\n",
        "params = structure()\n",
        "params.maxit = 5\n",
        "params.size_int = 9;\n",
        "params.size_dec = 10;\n",
        "params.size_cromossomo = 1+params.size_int+params.size_dec\n",
        "\n",
        "params.selection_flag = 'r'\n",
        "params.torneio_size = 10\n",
        "\n",
        "\n",
        "resultados = []\n",
        "\n",
        "taxas_de_mutação = [0.0,0.01,0.02,0.05,0.10,0.20,0.25,0.50]\n",
        "\n",
        "for muts in taxas_de_mutação:\n",
        "\n",
        "    params.mu = muts #taxa de mutação\n",
        "    params.sigma = 0.5 #probabilidade de mudar um bit\n",
        "\n",
        "\n",
        "    Bit_corretos_colunas = []\n",
        "    valor_fit_colunas = []\n",
        "    numero_avaliacao_colunas = []\n",
        "\n",
        "    populacoes = [10,500,1000,1500,2000,2500,3000,4000,5000]\n",
        "    for pops in populacoes:\n",
        "        params.npop = pops\n",
        "\n",
        "        qt_bits_corretos = []\n",
        "        valor_fit = []\n",
        "        numero_avaliacao = []\n",
        "        taxas_de_cruzamento = [1.0, 0.90, 0.75, 0.50, 0.25, 0.10, 0.0]\n",
        "        for crz in taxas_de_cruzamento:\n",
        "            \n",
        "            saida = []\n",
        "            for ll in range(n_execucao):\n",
        "                params.beta = 1\n",
        "                params.pc = 1\n",
        "                params.gamma = crz #taxa de crossover\n",
        "                \n",
        "                saida.append(runAG(problem,params))\n",
        "\n",
        "            for x in saida:\n",
        "                media_bits_corretos = np.mean(x.n_bits_corretos)\n",
        "                media_fit = np.mean(x.the_best.custo)\n",
        "                media_avaliacoes = np.mean(x.count_avaliacoes)\n",
        "                #print(' A média do numero de bits corretos é:  ',media_bits_corretos)\n",
        "                #print('A média do Fit: ',media_fit)\n",
        "                #print('A média do Numero de Avaliações: ', media_avaliacoes)\n",
        "\n",
        "            \n",
        "            qt_bits_corretos.append(media_bits_corretos)\n",
        "            valor_fit.append(media_fit)\n",
        "            numero_avaliacao.append(media_avaliacoes)\n",
        "\n",
        "        Bit_corretos_colunas.append(qt_bits_corretos)\n",
        "        valor_fit_colunas.append(valor_fit)\n",
        "        numero_avaliacao_colunas.append(numero_avaliacao)\n",
        "\n",
        "\n",
        "    Tabela_bit = pd.DataFrame(Bit_corretos_colunas).T\n",
        "    Tabela_bit.columns = ['Pupulação = 10','Pupulação = 500','Pupulação = 1000','Pupulação = 1500','Pupulação = 2000','Pupulação = 2500','Pupulação =3000','Pupulação = 4000','Pupulação = 5000']\n",
        "    Tabela_bit.index = ['Cruzamento = 100%','Cruzamento = 90%','Cruzamento = 75%','Cruzamento = 50%','Cruzamento = 25%','Cruzamento = 10%','Cruzamento = 0%']\n",
        "\n",
        "    Tabela_fit = pd.DataFrame(valor_fit_colunas).T\n",
        "    Tabela_fit.columns = ['Pupulação = 10','Pupulação = 500','Pupulação = 1000','Pupulação = 1500','Pupulação = 2000','Pupulação = 2500','Pupulação =3000','Pupulação = 4000','Pupulação = 5000']\n",
        "    Tabela_fit.index = ['Cruzamento = 100%','Cruzamento = 90%','Cruzamento = 75%','Cruzamento = 50%','Cruzamento = 25%','Cruzamento = 10%','Cruzamento = 0%']\n",
        "\n",
        "    Tabela_ava = pd.DataFrame(numero_avaliacao_colunas).T\n",
        "    Tabela_ava.columns =['Pupulação = 10','Pupulação = 500','Pupulação = 1000','Pupulação = 1500','Pupulação = 2000','Pupulação = 2500','Pupulação =3000','Pupulação = 4000','Pupulação = 5000']\n",
        "    Tabela_ava.index = ['Cruzamento = 100%','Cruzamento = 90%','Cruzamento = 75%','Cruzamento = 50%','Cruzamento = 25%','Cruzamento = 10%','Cruzamento = 0%']\n",
        "\n",
        "\n",
        "    resultados.append([Tabela_bit,Tabela_fit,Tabela_ava])\n",
        "    \n",
        "\n",
        "    Tabela_bit.to_csv(\"Tabela_bit_TX_MUT_\"+str(params.mu)+\".csv\", sep=';')\n",
        "    Tabela_fit.to_csv(\"Tabela_fit_TX_MUT_\"+str(params.mu)+\".csv\", sep=';')\n",
        "    Tabela_ava.to_csv(\"Tabela_ava_TX_MUT_\"+str(params.mu)+\".csv\", sep=';')\n",
        "\n",
        "fim = time.time()\n",
        "print('tempo execução:',fim - inicio)"
      ],
      "execution_count": null,
      "outputs": [
        {
          "output_type": "stream",
          "text": [
            "tempo execução: 14741.438331127167\n"
          ],
          "name": "stdout"
        }
      ]
    },
    {
      "cell_type": "code",
      "metadata": {
        "colab": {
          "base_uri": "https://localhost:8080/",
          "height": 389
        },
        "id": "gLNbjVETgX1M",
        "outputId": "de111f0f-1603-4c20-acfa-b6af046b3238"
      },
      "source": [
        "\n",
        "Tabela_bit"
      ],
      "execution_count": null,
      "outputs": [
        {
          "output_type": "execute_result",
          "data": {
            "text/html": [
              "<div>\n",
              "<style scoped>\n",
              "    .dataframe tbody tr th:only-of-type {\n",
              "        vertical-align: middle;\n",
              "    }\n",
              "\n",
              "    .dataframe tbody tr th {\n",
              "        vertical-align: top;\n",
              "    }\n",
              "\n",
              "    .dataframe thead th {\n",
              "        text-align: right;\n",
              "    }\n",
              "</style>\n",
              "<table border=\"1\" class=\"dataframe\">\n",
              "  <thead>\n",
              "    <tr style=\"text-align: right;\">\n",
              "      <th></th>\n",
              "      <th>Pupulação = 10</th>\n",
              "      <th>Pupulação = 500</th>\n",
              "      <th>Pupulação = 1000</th>\n",
              "      <th>Pupulação = 1500</th>\n",
              "      <th>Pupulação = 2000</th>\n",
              "      <th>Pupulação = 2500</th>\n",
              "      <th>Pupulação =3000</th>\n",
              "      <th>Pupulação = 4000</th>\n",
              "      <th>Pupulação = 5000</th>\n",
              "    </tr>\n",
              "  </thead>\n",
              "  <tbody>\n",
              "    <tr>\n",
              "      <th>Cruzamento = 100%</th>\n",
              "      <td>12.0</td>\n",
              "      <td>17.0</td>\n",
              "      <td>14.0</td>\n",
              "      <td>16.0</td>\n",
              "      <td>19.0</td>\n",
              "      <td>17.0</td>\n",
              "      <td>18.0</td>\n",
              "      <td>17.0</td>\n",
              "      <td>18.0</td>\n",
              "    </tr>\n",
              "    <tr>\n",
              "      <th>Cruzamento = 90%</th>\n",
              "      <td>11.0</td>\n",
              "      <td>17.0</td>\n",
              "      <td>14.0</td>\n",
              "      <td>16.0</td>\n",
              "      <td>16.0</td>\n",
              "      <td>18.0</td>\n",
              "      <td>15.0</td>\n",
              "      <td>18.0</td>\n",
              "      <td>16.0</td>\n",
              "    </tr>\n",
              "    <tr>\n",
              "      <th>Cruzamento = 75%</th>\n",
              "      <td>16.0</td>\n",
              "      <td>16.0</td>\n",
              "      <td>17.0</td>\n",
              "      <td>15.0</td>\n",
              "      <td>17.0</td>\n",
              "      <td>18.0</td>\n",
              "      <td>18.0</td>\n",
              "      <td>19.0</td>\n",
              "      <td>18.0</td>\n",
              "    </tr>\n",
              "    <tr>\n",
              "      <th>Cruzamento = 50%</th>\n",
              "      <td>13.0</td>\n",
              "      <td>16.0</td>\n",
              "      <td>14.0</td>\n",
              "      <td>17.0</td>\n",
              "      <td>16.0</td>\n",
              "      <td>18.0</td>\n",
              "      <td>17.0</td>\n",
              "      <td>18.0</td>\n",
              "      <td>18.0</td>\n",
              "    </tr>\n",
              "    <tr>\n",
              "      <th>Cruzamento = 25%</th>\n",
              "      <td>13.0</td>\n",
              "      <td>17.0</td>\n",
              "      <td>17.0</td>\n",
              "      <td>15.0</td>\n",
              "      <td>15.0</td>\n",
              "      <td>16.0</td>\n",
              "      <td>18.0</td>\n",
              "      <td>17.0</td>\n",
              "      <td>18.0</td>\n",
              "    </tr>\n",
              "    <tr>\n",
              "      <th>Cruzamento = 10%</th>\n",
              "      <td>13.0</td>\n",
              "      <td>13.0</td>\n",
              "      <td>17.0</td>\n",
              "      <td>15.0</td>\n",
              "      <td>18.0</td>\n",
              "      <td>19.0</td>\n",
              "      <td>17.0</td>\n",
              "      <td>18.0</td>\n",
              "      <td>17.0</td>\n",
              "    </tr>\n",
              "    <tr>\n",
              "      <th>Cruzamento = 0%</th>\n",
              "      <td>12.0</td>\n",
              "      <td>14.0</td>\n",
              "      <td>17.0</td>\n",
              "      <td>19.0</td>\n",
              "      <td>17.0</td>\n",
              "      <td>17.0</td>\n",
              "      <td>19.0</td>\n",
              "      <td>18.0</td>\n",
              "      <td>18.0</td>\n",
              "    </tr>\n",
              "  </tbody>\n",
              "</table>\n",
              "</div>"
            ],
            "text/plain": [
              "                   Pupulação = 10  ...  Pupulação = 5000\n",
              "Cruzamento = 100%            12.0  ...              18.0\n",
              "Cruzamento = 90%             11.0  ...              16.0\n",
              "Cruzamento = 75%             16.0  ...              18.0\n",
              "Cruzamento = 50%             13.0  ...              18.0\n",
              "Cruzamento = 25%             13.0  ...              18.0\n",
              "Cruzamento = 10%             13.0  ...              17.0\n",
              "Cruzamento = 0%              12.0  ...              18.0\n",
              "\n",
              "[7 rows x 9 columns]"
            ]
          },
          "metadata": {
            "tags": []
          },
          "execution_count": 14
        }
      ]
    },
    {
      "cell_type": "code",
      "metadata": {
        "colab": {
          "base_uri": "https://localhost:8080/",
          "height": 534
        },
        "id": "eJgBxt-Asdrw",
        "outputId": "b95deb2e-b09c-414a-8b86-7856b4613263"
      },
      "source": [
        "plt.figure(num=None, figsize=(16, 6), dpi=100, facecolor='w', edgecolor='k')\n",
        "for w in range(1,len(Tabela_bit)+1):\n",
        "    plt.plot(Tabela_bit[w-1:w].T)\n",
        "plt.legend(Tabela_bit.index)\n",
        "plt.ylim([0,25])\n",
        "plt.title(\"Bits Corretos - Tamanho Torneio X Pupolação (Tx de Cruzamento: \"+str(params.gamma) +\" ; Tx de Mutação: \"+str(params.mu) +\")\")\n",
        "plt.savefig( \"bit_TX_MUT_\"+str(params.mu)+'.png', dpi=100)"
      ],
      "execution_count": null,
      "outputs": [
        {
          "output_type": "display_data",
          "data": {
            "image/png": "[encoded data removed]",
            "text/plain": [
              "<Figure size 1600x600 with 1 Axes>"
            ]
          },
          "metadata": {
            "tags": []
          }
        }
      ]
    },
    {
      "cell_type": "markdown",
      "metadata": {
        "id": "s4mwZBHpgX1N"
      },
      "source": [
        "## Experimento com Seleção por Torneio:\n",
        "\n"
      ]
    },
    {
      "cell_type": "code",
      "metadata": {
        "colab": {
          "base_uri": "https://localhost:8080/"
        },
        "id": "MEGDVLHLgX1N",
        "outputId": "4db0a303-0d9b-404c-a9fd-9938f712ccb9"
      },
      "source": [
        "inicio = time.time()\n",
        "\n",
        "problem = structure()\n",
        "problem.objetivo = 'min'\n",
        "problem.costfunc = x_quadrado\n",
        "problem.nvar = 1\n",
        "problem.varmin = -4\n",
        "problem.varmax = 4\n",
        "\n",
        "params = structure()\n",
        "params.maxit = 5\n",
        "params.size_int = 3;\n",
        "params.size_dec = 10;\n",
        "params.size_cromossomo = 1+params.size_int+params.size_dec\n",
        "\n",
        "params.selection_flag = 't'\n",
        "\n",
        "#mutação\n",
        "taxas_de_mutação = [0.1]#,0.01,0.02,0.05,0.10,0.20,0.25,0.50]\n",
        "\n",
        "for mut in taxas_de_mutação:\n",
        "    params.mu = mut #taxa de mutação\n",
        "    params.sigma = 0.5 #probabilidade de mudar um bit\n",
        "\n",
        "    #cruzamento\n",
        "    taxas_de_cruzamento = [1.0, 0.90, 0.75, 0.50, 0.25, 0.10, 0.0]\n",
        "\n",
        "    for crz in taxas_de_cruzamento:\n",
        "        \n",
        "        params.beta = 1\n",
        "        params.pc = 1\n",
        "        params.gamma = crz #taxa de crossover\n",
        "\n",
        "\n",
        "        Bit_corretos_colunas = []\n",
        "        valor_fit_colunas = []\n",
        "        numero_avaliacao_colunas = []\n",
        "\n",
        "        populacoes = [10,500,1000,1500,2000,2500,3000,4000,5000]\n",
        "        for pops in populacoes:\n",
        "            params.npop = pops\n",
        "\n",
        "            qt_bits_corretos = []\n",
        "            valor_fit = []\n",
        "            numero_avaliacao = []\n",
        "            tamanho_torneio = [2,4,8,16]\n",
        "            for torn in tamanho_torneio:\n",
        "                params.torneio_size = torn\n",
        "                saida = []\n",
        "                for ll in range(n_execucao):\n",
        "                    \n",
        "                    saida.append(runAG(problem,params))\n",
        "\n",
        "                for x in saida:\n",
        "                    media_bits_corretos = np.mean(x.n_bits_corretos)\n",
        "                    media_fit = np.mean(x.the_best.custo)\n",
        "                    media_avaliacoes = np.mean(x.count_avaliacoes)\n",
        "\n",
        "\n",
        "                \n",
        "                qt_bits_corretos.append(media_bits_corretos)\n",
        "                valor_fit.append(media_fit)\n",
        "                numero_avaliacao.append(media_avaliacoes)\n",
        "\n",
        "            Bit_corretos_colunas.append(qt_bits_corretos)\n",
        "            valor_fit_colunas.append(valor_fit)\n",
        "            numero_avaliacao_colunas.append(numero_avaliacao)\n",
        "\n",
        "\n",
        "        Tabela_bit = pd.DataFrame(Bit_corretos_colunas).T\n",
        "        Tabela_bit.columns = ['Pupulação = 10','Pupulação = 500','Pupulação = 1000','Pupulação = 1500','Pupulação = 2000','Pupulação = 2500','Pupulação =3000','Pupulação = 4000','Pupulação = 5000']\n",
        "        Tabela_bit.index = ['Torneio=2','Torneio=4','Torneio=8','Torneio=16']\n",
        "\n",
        "        Tabela_fit = pd.DataFrame(valor_fit_colunas).T\n",
        "        Tabela_fit.columns = ['Pupulação = 10','Pupulação = 500','Pupulação = 1000','Pupulação = 1500','Pupulação = 2000','Pupulação = 2500','Pupulação =3000','Pupulação = 4000','Pupulação = 5000']\n",
        "        Tabela_fit.index = ['Torneio=2','Torneio=4','Torneio=8','Torneio=16']\n",
        "\n",
        "        Tabela_ava = pd.DataFrame(numero_avaliacao_colunas).T\n",
        "        Tabela_ava.columns =['Pupulação = 10','Pupulação = 500','Pupulação = 1000','Pupulação = 1500','Pupulação = 2000','Pupulação = 2500','Pupulação =3000','Pupulação = 4000','Pupulação = 5000']\n",
        "        Tabela_ava.index = ['Torneio=2','Torneio=4','Torneio=8','Torneio=16']\n",
        "\n",
        "\n",
        "        Tabela_bit.to_csv(\"Bits-Tam_TorneioXPup \"+\"Tx_Cruz:\"+str(params.gamma)+\" Tx_Mut\"+str(params.mu)+\".csv\", sep=';')\n",
        "        Tabela_fit.to_csv(\"fit-Tam_TorneioXPup \"+\"Tx_Cruz:\"+str(params.gamma)+\" Tx_Mut\"+str(params.mu)+\".csv\", sep=';')\n",
        "        Tabela_ava.to_csv(\"AVAL-Tam_TorneioXPup \"+\"Tx_Cruz:\"+str(params.gamma)+\" Tx_Mut\"+str(params.mu)+\".csv\", sep=';')\n",
        "\n",
        "\n",
        "\n",
        "fim = time.time()\n",
        "print('tempo execução:',fim - inicio)"
      ],
      "execution_count": null,
      "outputs": [
        {
          "output_type": "stream",
          "text": [
            "tempo execução: 1165.9571824073792\n"
          ],
          "name": "stdout"
        }
      ]
    }
  ]
}